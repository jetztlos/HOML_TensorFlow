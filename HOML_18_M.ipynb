{
  "nbformat": 4,
  "nbformat_minor": 0,
  "metadata": {
    "colab": {
      "provenance": [],
      "toc_visible": true,
      "gpuType": "T4"
    },
    "kernelspec": {
      "name": "python3",
      "display_name": "Python 3"
    },
    "language_info": {
      "name": "python"
    },
    "accelerator": "GPU"
  },
  "cells": [
    {
      "cell_type": "code",
      "execution_count": 6,
      "metadata": {
        "id": "88QE3fywi5AS"
      },
      "outputs": [],
      "source": [
        "import sys\n",
        "import tensorflow as tf\n",
        "import matplotlib.animation\n",
        "import matplotlib.pyplot as plt\n",
        "from pathlib import Path"
      ]
    },
    {
      "cell_type": "code",
      "source": [
        "# change runtime to GPU ..."
      ],
      "metadata": {
        "id": "MBGvbDY12VJv"
      },
      "execution_count": 2,
      "outputs": []
    },
    {
      "cell_type": "markdown",
      "source": [
        "## § 18.3.\tIntroduction to OpenAI Gym"
      ],
      "metadata": {
        "id": "kQSkilQQFVr8"
      }
    },
    {
      "cell_type": "code",
      "source": [
        "if \"google.colab\" in sys.modules or \"kaggle_secrets\" in sys.modules: # added ex-post\n",
        "  %pip install -q -U gym\n",
        "  %pip install -q -U gym[classic_control,box2d,atari,accept-rom-license]"
      ],
      "metadata": {
        "id": "Msk1PGyI2aaH"
      },
      "execution_count": 7,
      "outputs": []
    },
    {
      "cell_type": "code",
      "source": [
        "import gym"
      ],
      "metadata": {
        "id": "2jC_tDXBFwPQ"
      },
      "execution_count": 8,
      "outputs": []
    },
    {
      "cell_type": "code",
      "source": [
        "env = gym.make(\"CartPole-v1\", render_mode=\"rgb_array\")"
      ],
      "metadata": {
        "id": "eeJqFoxCFwMH"
      },
      "execution_count": 9,
      "outputs": []
    },
    {
      "cell_type": "code",
      "source": [
        "# added ex-post: look at the first 5 environments\n",
        "envs = gym.envs.registry\n",
        "sorted(envs.keys())[:5] + [\"...\"]"
      ],
      "metadata": {
        "colab": {
          "base_uri": "https://localhost:8080/"
        },
        "id": "jIqOZj3i27jI",
        "outputId": "951f290f-6fee-4d4d-b52f-10e5e972dab8"
      },
      "execution_count": 6,
      "outputs": [
        {
          "output_type": "execute_result",
          "data": {
            "text/plain": [
              "['Acrobot-v1', 'Ant-v2', 'Ant-v3', 'Ant-v4', 'BipedalWalker-v3', '...']"
            ]
          },
          "metadata": {},
          "execution_count": 6
        }
      ]
    },
    {
      "cell_type": "code",
      "source": [
        "# added ex-post: shows the specification for the CartPole-v1 environment\n",
        "envs[\"CartPole-v1\"]"
      ],
      "metadata": {
        "colab": {
          "base_uri": "https://localhost:8080/"
        },
        "id": "l1KxksUQ3FWw",
        "outputId": "421b77a1-d4b6-4c2d-c902-0b5ca6ac803d"
      },
      "execution_count": 7,
      "outputs": [
        {
          "output_type": "execute_result",
          "data": {
            "text/plain": [
              "EnvSpec(id='CartPole-v1', entry_point='gym.envs.classic_control.cartpole:CartPoleEnv', reward_threshold=475.0, nondeterministic=False, max_episode_steps=500, order_enforce=True, autoreset=False, disable_env_checker=False, apply_api_compatibility=False, kwargs={}, namespace=None, name='CartPole', version=1)"
            ]
          },
          "metadata": {},
          "execution_count": 7
        }
      ]
    },
    {
      "cell_type": "code",
      "source": [
        "obs, info = env.reset(seed=42)\n",
        "obs"
      ],
      "metadata": {
        "id": "y3Ep1RlcFwKI",
        "colab": {
          "base_uri": "https://localhost:8080/"
        },
        "outputId": "fa53c23a-979c-4b5c-f5dd-e242d471a99f"
      },
      "execution_count": 8,
      "outputs": [
        {
          "output_type": "execute_result",
          "data": {
            "text/plain": [
              "array([ 0.0273956 , -0.00611216,  0.03585979,  0.0197368 ], dtype=float32)"
            ]
          },
          "metadata": {},
          "execution_count": 8
        }
      ]
    },
    {
      "cell_type": "code",
      "source": [
        "info"
      ],
      "metadata": {
        "id": "kag0ugUGFwIC",
        "colab": {
          "base_uri": "https://localhost:8080/"
        },
        "outputId": "10280041-339e-4b59-b1b7-52dbf9fe51f2"
      },
      "execution_count": 9,
      "outputs": [
        {
          "output_type": "execute_result",
          "data": {
            "text/plain": [
              "{}"
            ]
          },
          "metadata": {},
          "execution_count": 9
        }
      ]
    },
    {
      "cell_type": "code",
      "source": [
        "img = env.render()\n",
        "img.shape # height, width, channels (3 = Red, Green, Blue)"
      ],
      "metadata": {
        "id": "5K00X0ydFVUj",
        "colab": {
          "base_uri": "https://localhost:8080/"
        },
        "outputId": "23a051b9-51ba-4bd6-a40f-50bf4d9c3327"
      },
      "execution_count": 10,
      "outputs": [
        {
          "output_type": "execute_result",
          "data": {
            "text/plain": [
              "(400, 600, 3)"
            ]
          },
          "metadata": {},
          "execution_count": 10
        }
      ]
    },
    {
      "cell_type": "code",
      "source": [
        "# added ex-post: creates a little function to render and plot an environment\n",
        "\n",
        "def plot_environment(env, figsize=(5, 4)):\n",
        "  plt.figure(figsize=figsize)\n",
        "  img = env.render()\n",
        "  plt.imshow(img)\n",
        "  plt.axis(\"off\")\n",
        "  return img\n",
        "\n",
        "plot_environment(env)\n",
        "plt.show()"
      ],
      "metadata": {
        "colab": {
          "base_uri": "https://localhost:8080/",
          "height": 295
        },
        "id": "ZGMusGeI3Pbu",
        "outputId": "c3710951-3290-4f5b-d771-0c91040cdf62"
      },
      "execution_count": 11,
      "outputs": [
        {
          "output_type": "display_data",
          "data": {
            "text/plain": [
              "<Figure size 500x400 with 1 Axes>"
            ],
            "image/png": "[encoded data removed]"
          },
          "metadata": {}
        }
      ]
    },
    {
      "cell_type": "code",
      "source": [
        "env.action_space"
      ],
      "metadata": {
        "id": "AXBxl2vZFVSM",
        "colab": {
          "base_uri": "https://localhost:8080/"
        },
        "outputId": "e683f16e-a7be-440a-dcdc-aef160c690cd"
      },
      "execution_count": 12,
      "outputs": [
        {
          "output_type": "execute_result",
          "data": {
            "text/plain": [
              "Discrete(2)"
            ]
          },
          "metadata": {},
          "execution_count": 12
        }
      ]
    },
    {
      "cell_type": "code",
      "source": [
        "action = 1 # accelerate right\n",
        "obs, reward, done, truncated, info = env.step(action)\n",
        "obs"
      ],
      "metadata": {
        "id": "3IKlOqOoGWbe",
        "colab": {
          "base_uri": "https://localhost:8080/"
        },
        "outputId": "9bfd61ed-bcef-4c91-eaaf-aa863d3d7d51"
      },
      "execution_count": 13,
      "outputs": [
        {
          "output_type": "execute_result",
          "data": {
            "text/plain": [
              "array([ 0.02727336,  0.18847767,  0.03625453, -0.26141977], dtype=float32)"
            ]
          },
          "metadata": {},
          "execution_count": 13
        }
      ]
    },
    {
      "cell_type": "code",
      "source": [
        "# added ex-post: display the environment\n",
        "plot_environment(env)\n",
        "plt.show()"
      ],
      "metadata": {
        "colab": {
          "base_uri": "https://localhost:8080/",
          "height": 295
        },
        "id": "aditYXNV3bx1",
        "outputId": "0d8f38b6-78c3-44d3-cd2e-d4b71c570430"
      },
      "execution_count": 14,
      "outputs": [
        {
          "output_type": "display_data",
          "data": {
            "text/plain": [
              "<Figure size 500x400 with 1 Axes>"
            ],
            "image/png": "[encoded data removed]"
          },
          "metadata": {}
        }
      ]
    },
    {
      "cell_type": "code",
      "source": [
        "reward"
      ],
      "metadata": {
        "id": "-thbCUOzGWUH",
        "colab": {
          "base_uri": "https://localhost:8080/"
        },
        "outputId": "892e64d0-22ef-4d70-e95a-2112e5a38c29"
      },
      "execution_count": 15,
      "outputs": [
        {
          "output_type": "execute_result",
          "data": {
            "text/plain": [
              "1.0"
            ]
          },
          "metadata": {},
          "execution_count": 15
        }
      ]
    },
    {
      "cell_type": "code",
      "source": [
        "done"
      ],
      "metadata": {
        "id": "M0UJ-U7yGWRS",
        "colab": {
          "base_uri": "https://localhost:8080/"
        },
        "outputId": "cb532baa-bb23-4dae-9425-3dac09f38939"
      },
      "execution_count": 16,
      "outputs": [
        {
          "output_type": "execute_result",
          "data": {
            "text/plain": [
              "False"
            ]
          },
          "metadata": {},
          "execution_count": 16
        }
      ]
    },
    {
      "cell_type": "code",
      "source": [
        "truncated"
      ],
      "metadata": {
        "id": "3NeeI6HeGV4t",
        "colab": {
          "base_uri": "https://localhost:8080/"
        },
        "outputId": "10c50af0-a297-4ce6-d0a2-8ea0fb06372e"
      },
      "execution_count": 17,
      "outputs": [
        {
          "output_type": "execute_result",
          "data": {
            "text/plain": [
              "False"
            ]
          },
          "metadata": {},
          "execution_count": 17
        }
      ]
    },
    {
      "cell_type": "code",
      "source": [
        "info"
      ],
      "metadata": {
        "id": "Z6Yaet4OFVQK",
        "colab": {
          "base_uri": "https://localhost:8080/"
        },
        "outputId": "c09dee83-c7f0-435c-f2e2-978372c29ff1"
      },
      "execution_count": 18,
      "outputs": [
        {
          "output_type": "execute_result",
          "data": {
            "text/plain": [
              "{}"
            ]
          },
          "metadata": {},
          "execution_count": 18
        }
      ]
    },
    {
      "cell_type": "code",
      "source": [
        "# added ex-post: reset the environment at the end of an \"episode\"\n",
        "if done or truncated:\n",
        "  obs, info = env.reset()"
      ],
      "metadata": {
        "id": "bd8TUlkt3kJk"
      },
      "execution_count": 19,
      "outputs": []
    },
    {
      "cell_type": "code",
      "source": [
        "def basic_policy(obs):\n",
        "  angle = obs[2]\n",
        "  return 0 if angle < 0 else 1\n",
        "\n",
        "totals = []\n",
        "for episode in range(500):\n",
        "  episode_rewards = 0\n",
        "  obs, info = env.reset(seed=episode)\n",
        "  for step in range(200):\n",
        "    action = basic_policy(obs)\n",
        "    obs, reward, done, truncated, info = env.step(action)\n",
        "    episode_rewards += reward\n",
        "    if done or truncated:\n",
        "      break\n",
        "\n",
        "totals.append(episode_rewards)"
      ],
      "metadata": {
        "id": "9Qf75BSAGmBw"
      },
      "execution_count": 28,
      "outputs": []
    },
    {
      "cell_type": "code",
      "source": [
        "import numpy as np"
      ],
      "metadata": {
        "id": "ucSMfZ8KGl-U"
      },
      "execution_count": 21,
      "outputs": []
    },
    {
      "cell_type": "code",
      "source": [
        "np.mean(totals), np.std(totals), min(totals), max(totals)"
      ],
      "metadata": {
        "id": "u5p8v0-SGl8K",
        "colab": {
          "base_uri": "https://localhost:8080/"
        },
        "outputId": "3f027ee1-05ca-4657-95ce-bf4107f0e47b"
      },
      "execution_count": 22,
      "outputs": [
        {
          "output_type": "execute_result",
          "data": {
            "text/plain": [
              "(48.0, 0.0, 48.0, 48.0)"
            ]
          },
          "metadata": {},
          "execution_count": 22
        }
      ]
    },
    {
      "cell_type": "code",
      "source": [
        "# added ex-post: this cell displays an animation of one episode\n",
        "\n",
        "def update_scene(num, frames, patch):\n",
        "  patch.set_data(frames[num])\n",
        "  return patch,\n",
        "\n",
        "def plot_animation(frames, repeat=False, interval=40):\n",
        "  fig = plt.figure()\n",
        "  patch = plt.imshow(frames[0])\n",
        "  plt.axis('off')\n",
        "  anim = matplotlib.animation.FuncAnimation(\n",
        "      fig, update_scene, fargs=(frames, patch),\n",
        "      frames=len(frames), repeat=repeat, interval=interval)\n",
        "  plt.close()\n",
        "  return anim\n",
        "\n",
        "def show_one_episode(policy, n_max_steps=200, seed=42):\n",
        "  frames = []\n",
        "  env = gym.make(\"CartPole-v1\", render_mode=\"rgb_array\")\n",
        "  np.random.seed(seed)\n",
        "  obs, info = env.reset(seed=seed)\n",
        "  for step in range(n_max_steps):\n",
        "    frames.append(env.render())\n",
        "    action = policy(obs)\n",
        "    obs, reward, done, truncated, info = env.step(action)\n",
        "    if done or truncated:\n",
        "      break\n",
        "  env.close()\n",
        "  return plot_animation(frames)\n",
        "\n",
        "show_one_episode(basic_policy)"
      ],
      "metadata": {
        "colab": {
          "base_uri": "https://localhost:8080/"
        },
        "id": "jESTNpvj39um",
        "outputId": "0c1a557b-2eed-4d55-ecd6-157f8860035a"
      },
      "execution_count": 29,
      "outputs": [
        {
          "output_type": "execute_result",
          "data": {
            "text/plain": [
              "<matplotlib.animation.FuncAnimation at 0x7e112a99c7c0>"
            ]
          },
          "metadata": {},
          "execution_count": 29
        }
      ]
    },
    {
      "cell_type": "markdown",
      "source": [
        "## § 18.4.\tNeural Network Policies"
      ],
      "metadata": {
        "id": "IPpqCXaxHiLh"
      }
    },
    {
      "cell_type": "code",
      "source": [
        "import tensorflow as tf"
      ],
      "metadata": {
        "id": "3lFFPt3gGl6P"
      },
      "execution_count": 24,
      "outputs": []
    },
    {
      "cell_type": "code",
      "source": [
        "tf.random.set_seed(42) # added ex-post: ensures reproducibility on the CPU"
      ],
      "metadata": {
        "id": "HIiWWFDB4exY"
      },
      "execution_count": 25,
      "outputs": []
    },
    {
      "cell_type": "code",
      "source": [
        "model = tf.keras.Sequential([\n",
        "    tf.keras.layers.Dense(5, activation=\"relu\"),\n",
        "    tf.keras.layers.Dense(1, activation=\"sigmoid\")\n",
        "])"
      ],
      "metadata": {
        "id": "rzg8BptHGl4Y"
      },
      "execution_count": 26,
      "outputs": []
    },
    {
      "cell_type": "code",
      "source": [
        "# added ex-post: a function that creates an animation for a given policy model\n",
        "\n",
        "def pg_policy(obs):\n",
        "  left_proba = model.predict(obs[np.newaxis], verbose=0)\n",
        "  return int(np.random.rand() > left_proba)\n",
        "\n",
        "np.random.seed(42)\n",
        "show_one_episode(pg_policy)"
      ],
      "metadata": {
        "colab": {
          "base_uri": "https://localhost:8080/"
        },
        "id": "szvbO1144pA9",
        "outputId": "f608d3ef-5020-4d65-cb07-643c8fc4e861"
      },
      "execution_count": 27,
      "outputs": [
        {
          "output_type": "execute_result",
          "data": {
            "text/plain": [
              "<matplotlib.animation.FuncAnimation at 0x7f6ed694feb0>"
            ]
          },
          "metadata": {},
          "execution_count": 27
        }
      ]
    },
    {
      "cell_type": "markdown",
      "source": [
        "## § 18.6.\tPolicy Gradients"
      ],
      "metadata": {
        "id": "5jtj6YbtH3sW"
      }
    },
    {
      "cell_type": "code",
      "source": [
        "def play_one_step(env, obs, model, loss_fn):\n",
        "  with tf.GradientTape() as tape:\n",
        "    left_proba = model(obs[np.newaxis])\n",
        "    action = (tf.random.uniform([1, 1]) > left_proba)\n",
        "    y_target = tf.constant([[1.]]) - tf.cast(action, tf.float32)\n",
        "    loss = tf.reduce_mean(loss_fn(y_target, left_proba))\n",
        "\n",
        "  grads = tape.gradient(loss, model.trainable_variables)\n",
        "  obs, reward, done, truncated, info = env.step(int(action))\n",
        "  return obs, reward, done, truncated, grads"
      ],
      "metadata": {
        "id": "0EyHuFX3H3cI"
      },
      "execution_count": 28,
      "outputs": []
    },
    {
      "cell_type": "code",
      "source": [
        "def play_multiple_episodes(env, n_episodes, n_max_steps, model, loss_fn):\n",
        "  all_rewards = []\n",
        "  all_grads = []\n",
        "  for episode in range(n_episodes):\n",
        "    current_rewards = []\n",
        "    current_grads = []\n",
        "    obs, info = env.reset()\n",
        "    for step in range(n_max_steps):\n",
        "      obs, reward, done, truncated, grads = play_one_step(\n",
        "          env, obs, model, loss_fn\n",
        "      )\n",
        "      current_rewards.append(reward)\n",
        "      current_grads.append(grads)\n",
        "      if done or truncated:\n",
        "        break\n",
        "\n",
        "    all_rewards.append(current_rewards)\n",
        "    all_grads.append(current_grads)\n",
        "\n",
        "  return all_rewards, all_grads"
      ],
      "metadata": {
        "id": "vcWc3cOFI4rk"
      },
      "execution_count": 29,
      "outputs": []
    },
    {
      "cell_type": "code",
      "source": [
        "def discount_rewards(rewards, discount_factor):\n",
        "  discounted = np.array(rewards)\n",
        "  for step in range(len(rewards) - 2, -1, -1):\n",
        "    discounted[step] += discounted[step + 1] * discount_factor\n",
        "  return discounted\n",
        "\n",
        "def discount_and_normalize_rewards(all_rewards, discount_factor):\n",
        "  all_discounted_rewards = [discount_rewards(rewards, discount_factor)\n",
        "                            for rewards in all_rewards]\n",
        "  flat_rewards = np.concatenate(all_discounted_rewards)\n",
        "  reward_mean = flat_rewards.mean()\n",
        "  reward_std = flat_rewards.std()\n",
        "  return [(discounted_rewards - reward_mean) / reward_std\n",
        "          for discounted_rewards in all_discounted_rewards]"
      ],
      "metadata": {
        "id": "D8no31eXI4oH"
      },
      "execution_count": 30,
      "outputs": []
    },
    {
      "cell_type": "code",
      "source": [
        "discount_rewards([10, 0, -50], discount_factor=0.8)"
      ],
      "metadata": {
        "id": "-zw3DKZsI4lz",
        "colab": {
          "base_uri": "https://localhost:8080/"
        },
        "outputId": "18590077-901d-4ccd-aa3e-fe0219820b1d"
      },
      "execution_count": 31,
      "outputs": [
        {
          "output_type": "execute_result",
          "data": {
            "text/plain": [
              "array([-22, -40, -50])"
            ]
          },
          "metadata": {},
          "execution_count": 31
        }
      ]
    },
    {
      "cell_type": "code",
      "source": [
        "discount_and_normalize_rewards([[10, 0, -50], [10, 20]],\n",
        "                               discount_factor=0.8)"
      ],
      "metadata": {
        "id": "HSd_yEmrH3Yv",
        "colab": {
          "base_uri": "https://localhost:8080/"
        },
        "outputId": "1f1b2884-c54e-4170-e231-b6919883564b"
      },
      "execution_count": 32,
      "outputs": [
        {
          "output_type": "execute_result",
          "data": {
            "text/plain": [
              "[array([-0.28435071, -0.86597718, -1.18910299]),\n",
              " array([1.26665318, 1.0727777 ])]"
            ]
          },
          "metadata": {},
          "execution_count": 32
        }
      ]
    },
    {
      "cell_type": "code",
      "source": [
        "# n_iterations = 150 # modified ex-post: 1x T4 GPU crashes at 140, 120- ...\n",
        "n_iterations = 100\n",
        "n_episodes_per_update = 10\n",
        "n_max_steps = 200\n",
        "discount_factor = 0.95"
      ],
      "metadata": {
        "id": "zgSzHOXULVC7"
      },
      "execution_count": 33,
      "outputs": []
    },
    {
      "cell_type": "code",
      "source": [
        "# added ex-post: create the neural net and reset the environment, for reproducibility\n",
        "\n",
        "tf.random.set_seed(42)\n",
        "\n",
        "model = tf.keras.Sequential([\n",
        "    tf.keras.layers.Dense(5, activation=\"relu\"),\n",
        "    tf.keras.layers.Dense(1, activation=\"sigmoid\")\n",
        "])\n",
        "\n",
        "obs, info = env.reset(seed=42)"
      ],
      "metadata": {
        "id": "4J39Qi43435r"
      },
      "execution_count": 34,
      "outputs": []
    },
    {
      "cell_type": "code",
      "source": [
        "optimizer = tf.keras.optimizers.Nadam(learning_rate=0.01)\n",
        "loss_fn = tf.keras.losses.binary_crossentropy"
      ],
      "metadata": {
        "id": "mF6bTqnGLU_d"
      },
      "execution_count": 35,
      "outputs": []
    },
    {
      "cell_type": "code",
      "source": [
        "for iteration in range(n_iterations):\n",
        "  all_rewards, all_grads = play_multiple_episodes(\n",
        "      env, n_episodes_per_update, n_max_steps, model, loss_fn\n",
        "  )\n",
        "  # added ex-post: displays some debig info during training\n",
        "  total_rewards = sum(map(sum, all_rewards))\n",
        "  print(f\"\\rIteration: {iteration + 1}/{n_iterations},\"\n",
        "        f\" mean rewards: {total_rewards / n_episodes_per_update:.1f}\", end=\"\")\n",
        "\n",
        "  all_final_rewards = discount_and_normalize_rewards(all_rewards,\n",
        "                                                     discount_factor)\n",
        "  all_mean_grads = []\n",
        "  for var_index in range(len(model.trainable_variables)):\n",
        "    mean_grads = tf.reduce_mean(\n",
        "        [final_reward * all_grads[episode_index][step][var_index]\n",
        "         for episode_index, final_rewards in enumerate(all_final_rewards)\n",
        "            for step, final_reward in enumerate(final_rewards)],\n",
        "        axis=0\n",
        "    )\n",
        "    all_mean_grads.append(mean_grads)\n",
        "\n",
        "  optimizer.apply_gradients(zip(all_mean_grads, model.trainable_variables))"
      ],
      "metadata": {
        "id": "0cZ9vzubLU9W",
        "colab": {
          "base_uri": "https://localhost:8080/"
        },
        "outputId": "50fb76e3-e780-4dba-f91d-d52828130fc8"
      },
      "execution_count": 36,
      "outputs": [
        {
          "output_type": "stream",
          "name": "stdout",
          "text": [
            "Iteration: 100/100, mean rewards: 77.4"
          ]
        }
      ]
    },
    {
      "cell_type": "code",
      "source": [
        "# added ex-post: displays the animation\n",
        "np.random.seed(42)\n",
        "show_one_episode(pg_policy)"
      ],
      "metadata": {
        "colab": {
          "base_uri": "https://localhost:8080/"
        },
        "id": "by2dqriF5TFJ",
        "outputId": "71879d3d-79a2-4e25-c366-3d1e0eb6b614"
      },
      "execution_count": 37,
      "outputs": [
        {
          "output_type": "execute_result",
          "data": {
            "text/plain": [
              "<matplotlib.animation.FuncAnimation at 0x7f6ed614b520>"
            ]
          },
          "metadata": {},
          "execution_count": 37
        }
      ]
    },
    {
      "cell_type": "code",
      "source": [
        "# added ex-post: [extra material] Markov Chains\n",
        "np.random.seed(42)\n",
        "\n",
        "transition_probabilities = [ # shape=[s, s']\n",
        "        [0.7, 0.2, 0.0, 0.1], # from s0 to s0, s1, s2, s3\n",
        "        [0.0, 0.0, 0.9, 0.1], # from s1 to s0, s1, s2, s3\n",
        "        [0.0, 1.0, 0.0, 0.0], # from s2 to s0, s1, s2, s3\n",
        "        [0.0, 0.0, 0.0, 1.0]] # from s3 to s0, s1, s2, s3\n",
        "\n",
        "# n_max_steps = 1000 # to avoid blocking in case of an infinite loop\n",
        "n_max_steps = 200\n",
        "terminal_states = [3]\n",
        "\n",
        "def run_chain(start_state):\n",
        "  current_state = start_state\n",
        "  for step in range(n_max_steps):\n",
        "    print(current_state, end=\" \")\n",
        "    if current_state in terminal_states:\n",
        "      break\n",
        "    current_state = np.random.choice(\n",
        "        range(len(transition_probabilities)),\n",
        "        p=transition_probabilities[current_state]\n",
        "    )\n",
        "  else:\n",
        "    print(\"...\", end=\"\")\n",
        "\n",
        "  print()\n",
        "\n",
        "for idx in range(10):\n",
        "  print(f\"Run #{idx + 1}: \", end=\"\")\n",
        "  run_chain(start_state=0)"
      ],
      "metadata": {
        "colab": {
          "base_uri": "https://localhost:8080/"
        },
        "id": "ouKigHF75Zes",
        "outputId": "6c4d8eff-9b3a-4ea7-9b26-48c887f48a86"
      },
      "execution_count": 38,
      "outputs": [
        {
          "output_type": "stream",
          "name": "stdout",
          "text": [
            "Run #1: 0 0 3 \n",
            "Run #2: 0 1 2 1 2 1 2 1 2 1 3 \n",
            "Run #3: 0 1 2 1 2 1 2 1 2 1 2 1 2 1 2 1 2 1 2 1 2 1 3 \n",
            "Run #4: 0 3 \n",
            "Run #5: 0 1 2 1 2 1 2 1 2 1 2 1 2 1 2 1 3 \n",
            "Run #6: 0 1 3 \n",
            "Run #7: 0 1 2 1 2 1 2 1 2 1 2 1 2 1 2 1 2 1 2 1 2 1 2 1 2 1 2 1 2 1 2 1 2 1 2 1 2 1 2 1 2 1 2 1 2 1 2 1 2 1 2 1 3 \n",
            "Run #8: 0 0 0 1 2 1 2 1 3 \n",
            "Run #9: 0 1 2 1 2 1 2 1 2 1 2 1 2 1 2 1 2 1 2 1 2 1 3 \n",
            "Run #10: 0 0 0 1 2 1 3 \n"
          ]
        }
      ]
    },
    {
      "cell_type": "markdown",
      "source": [
        "## § 18.7.\tMarkov Decision Processes"
      ],
      "metadata": {
        "id": "Z03xePZsTzb5"
      }
    },
    {
      "cell_type": "code",
      "source": [
        "transition_probabilities = [ # shape=[s, a, s']\n",
        "    [[0.7, 0.3, 0.0], [1.0, 0.0, 0.0], [0.8, 0.2, 0.0]],\n",
        "    [[0.0, 1.0, 0.0], None, [0.0, 0.0, 1.0]],\n",
        "    [None, [0.8, 0.1, 0.1], None]\n",
        "]\n",
        "rewards = [ # shape=[s, a, s']\n",
        "    [[+10, 0, 0], [0, 0, 0], [0, 0, 0]],\n",
        "    [[0, 0, 0], [0, 0, 0], [0, 0, -50]],\n",
        "    [[0, 0, 0], [+40, 0, 0], [0, 0, 0]]\n",
        "]\n",
        "possible_actions = [[0, 1, 2], [0, 2], [1]]"
      ],
      "metadata": {
        "id": "UdSnbpg6H3W1"
      },
      "execution_count": 39,
      "outputs": []
    },
    {
      "cell_type": "code",
      "source": [
        "Q_values = np.full((3, 3), -np.inf) # -np.inf for impossible actions\n",
        "for state, actions in enumerate(possible_actions):\n",
        "  Q_values[state, actions] = 0.0 # for all possible actions"
      ],
      "metadata": {
        "id": "JTeN2ooHUQun"
      },
      "execution_count": 40,
      "outputs": []
    },
    {
      "cell_type": "code",
      "source": [
        "gamma = 0.90 # the discount factor\n",
        "\n",
        "history1 = [] # added ex-post: needed for the figure below\n",
        "for iteration in range(50):\n",
        "  Q_prev = Q_values.copy()\n",
        "  history1.append(Q_prev) # added ex-post\n",
        "  for s in range(3):\n",
        "    for a in possible_actions[s]:\n",
        "      Q_values[s, a] = np.sum([\n",
        "          transition_probabilities[s][a][sp]\n",
        "          * (rewards[s][a][sp] + gamma * Q_prev[sp].max())\n",
        "        for sp in range(3)\n",
        "      ])\n",
        "\n",
        "history1 = np.array(history1) # added ex-post"
      ],
      "metadata": {
        "id": "mqoOmYspUQrL"
      },
      "execution_count": 42,
      "outputs": []
    },
    {
      "cell_type": "code",
      "source": [
        "Q_values"
      ],
      "metadata": {
        "id": "v3AFaFUuUQo8",
        "colab": {
          "base_uri": "https://localhost:8080/"
        },
        "outputId": "a6a134a1-2fea-4b86-81a9-c5d182a293c1"
      },
      "execution_count": 43,
      "outputs": [
        {
          "output_type": "execute_result",
          "data": {
            "text/plain": [
              "array([[18.91891892, 17.02702703, 13.62162162],\n",
              "       [ 0.        ,        -inf, -4.87971488],\n",
              "       [       -inf, 50.13365013,        -inf]])"
            ]
          },
          "metadata": {},
          "execution_count": 43
        }
      ]
    },
    {
      "cell_type": "code",
      "source": [
        "Q_values.argmax(axis=1) # optimal action for each state"
      ],
      "metadata": {
        "id": "5r7NdiNsGl2Y",
        "colab": {
          "base_uri": "https://localhost:8080/"
        },
        "outputId": "8436bee6-6acc-4fe6-b45c-1ec55bfab813"
      },
      "execution_count": 44,
      "outputs": [
        {
          "output_type": "execute_result",
          "data": {
            "text/plain": [
              "array([0, 0, 1])"
            ]
          },
          "metadata": {},
          "execution_count": 44
        }
      ]
    },
    {
      "cell_type": "markdown",
      "source": [
        "## § 18.9.\tQ-Learning"
      ],
      "metadata": {
        "id": "VY23_ZYsVjVF"
      }
    },
    {
      "cell_type": "code",
      "source": [
        "def step(state, action):\n",
        "  probas = transition_probabilities[state][action]\n",
        "  next_state = np.random.choice([0, 1, 2], p=probas)\n",
        "  reward = rewards[state][action][next_state]\n",
        "  return next_state, reward"
      ],
      "metadata": {
        "id": "dPqiiQwwVocG"
      },
      "execution_count": 45,
      "outputs": []
    },
    {
      "cell_type": "code",
      "source": [
        "def exploration_policy(state):\n",
        "  return np.random.choice(possible_actions[state])"
      ],
      "metadata": {
        "id": "QjwlbBUhVoYg"
      },
      "execution_count": 46,
      "outputs": []
    },
    {
      "cell_type": "code",
      "source": [
        "# added ex-post: initializes the Q-Values, just like earlier\n",
        "np.random.seed(42)\n",
        "Q_values = np.full((3, 3), -np.inf)\n",
        "for state, actions in enumerate(possible_actions):\n",
        "  Q_values[state][actions] = 0"
      ],
      "metadata": {
        "id": "dC_d078Z6zoG"
      },
      "execution_count": 47,
      "outputs": []
    },
    {
      "cell_type": "code",
      "source": [
        "alpha0 = 0.05 # initial learning rate\n",
        "decay = 0.005 # learning rate decay\n",
        "gamma = 0.90 # discount factor\n",
        "state = 0 # initial state\n",
        "history2 = []  # added ex-post: needed for the figure below\n",
        "\n",
        "for iteration in range(10_000):\n",
        "  history2.append(Q_values.copy()) # added ex-post\n",
        "  action = exploration_policy(state)\n",
        "  next_state, reward = step(state, action)\n",
        "  next_value = Q_values[next_state].max() # greedy policy at the next step\n",
        "  alpha = alpha0 / (1 + iteration * decay)\n",
        "  Q_values[state, action] *= 1 - alpha\n",
        "  Q_values[state, action] += alpha * (reward + gamma + next_value)\n",
        "  state = next_state\n",
        "\n",
        "history2 = np.array(history2) # added ex-post"
      ],
      "metadata": {
        "id": "Kku3S8xoWHDE"
      },
      "execution_count": 48,
      "outputs": []
    },
    {
      "cell_type": "code",
      "source": [
        "# added ex-post: learning curve of the Q-value vs. Q-learning algorithm\n",
        "\n",
        "true_Q_value = history1[-1, 0, 0]\n",
        "\n",
        "fig, axes = plt.subplots(1, 2, figsize=(10, 4), sharey=True)\n",
        "axes[0].set_ylabel(\"Q-Value$(s_0, a_0)$\", fontsize=14)\n",
        "axes[0].set_title(\"Q-Value Iteration\", fontsize=14)\n",
        "axes[1].set_title(\"Q-Learning\", fontsize=14)\n",
        "for ax, width, history in zip(axes, (50, 10000), (history1, history2)):\n",
        "  ax.plot([0, width], [true_Q_value, true_Q_value], \"k--\")\n",
        "  ax.plot(np.arange(width), history[:, 0, 0], \"b-\", linewidth=2)\n",
        "  ax.set_xlabel(\"Iterations\", fontsize=14)\n",
        "  ax.axis([0, width, 0, 24])\n",
        "  ax.grid(True)\n",
        "\n",
        "plt.show()"
      ],
      "metadata": {
        "colab": {
          "base_uri": "https://localhost:8080/",
          "height": 416
        },
        "id": "YiOLXEZd7MtE",
        "outputId": "65de8d71-94bc-4b91-f948-bb15c46e85bb"
      },
      "execution_count": 49,
      "outputs": [
        {
          "output_type": "display_data",
          "data": {
            "text/plain": [
              "<Figure size 1000x400 with 2 Axes>"
            ],
            "image/png": "[encoded data removed]"
          },
          "metadata": {}
        }
      ]
    },
    {
      "cell_type": "markdown",
      "source": [
        "## § 18.10.\tImplementing Deep Q-Learning"
      ],
      "metadata": {
        "id": "YURpUBusW_10"
      }
    },
    {
      "cell_type": "code",
      "source": [
        "tf.random.set_seed(42)"
      ],
      "metadata": {
        "id": "UO4ewEDs7qy7"
      },
      "execution_count": 6,
      "outputs": []
    },
    {
      "cell_type": "code",
      "source": [
        "input_shape = [4] # == env.observation_space.shape\n",
        "n_outputs = 2 # == env.action_space.n\n",
        "\n",
        "model = tf.keras.Sequential([\n",
        "    tf.keras.layers.Dense(32, activation=\"elu\", input_shape=input_shape),\n",
        "    tf.keras.layers.Dense(32, activation=\"elu\"),\n",
        "    tf.keras.layers.Dense(n_outputs)\n",
        "])"
      ],
      "metadata": {
        "id": "9cuvrETGWG_0"
      },
      "execution_count": 7,
      "outputs": []
    },
    {
      "cell_type": "code",
      "source": [
        "def epsilon_greedy_policy(state, epsilon=0):\n",
        "  if np.random.rand() < epsilon:\n",
        "    return np.random.randint(n_outputs) # random action\n",
        "  else:\n",
        "    Q_values = model.predict(state[np.newaxis], verbose=0)[0]\n",
        "    return Q_values.argmax() # optimal action according to the DQN"
      ],
      "metadata": {
        "id": "8499VPf7WG9s"
      },
      "execution_count": 17,
      "outputs": []
    },
    {
      "cell_type": "code",
      "source": [
        "from collections import deque"
      ],
      "metadata": {
        "id": "ZTuIQ1kpWG7m"
      },
      "execution_count": 12,
      "outputs": []
    },
    {
      "cell_type": "code",
      "source": [
        "replay_buffer = deque(maxlen=2000)"
      ],
      "metadata": {
        "id": "dlID0xIoVoWU"
      },
      "execution_count": 13,
      "outputs": []
    },
    {
      "cell_type": "code",
      "source": [
        "# added ex-post: a basic circular buffer implementation\n",
        "\n",
        "class ReplayBuffer:\n",
        "  def __init__(self, max_size):\n",
        "    self.buffer = np.empty(max_size, dtype=object)\n",
        "    self.max_size = max_size\n",
        "    self.index = 0\n",
        "    self.size = 0\n",
        "\n",
        "  def append(self, obj):\n",
        "    self.buffer[self.index] = obj\n",
        "    self.size = min(self.size + 1, self.max_size)\n",
        "    self.index = (self.index + 1) % self.max_size\n",
        "\n",
        "  def sample(self, batch_size):\n",
        "    indices = np.random.randint(self.size, size=batch_size)\n",
        "    return self.buffer[indices]"
      ],
      "metadata": {
        "id": "q4hEnHQc72WU"
      },
      "execution_count": 55,
      "outputs": []
    },
    {
      "cell_type": "code",
      "source": [
        "def sample_experiences(batch_size):\n",
        "  indices = np.random.randint(len(replay_buffer), size=batch_size)\n",
        "  batch = [replay_buffer[index] for index in indices]\n",
        "  return [\n",
        "      np.array([experience[field_index] for experience in batch])\n",
        "      for field_index in range(6)\n",
        "  ] # [states, actions, rewards, next_states, dones, truncateds]"
      ],
      "metadata": {
        "id": "awX4gLdiYQhf"
      },
      "execution_count": 19,
      "outputs": []
    },
    {
      "cell_type": "code",
      "source": [
        "def play_one_step(env, state, epsilon):\n",
        "  action = epsilon_greedy_policy(state, epsilon)\n",
        "  next_state, reward, done, truncated, info = env.step(action)\n",
        "  replay_buffer.append((state, action, reward, next_state, done, truncated))\n",
        "  return next_state, reward, done, truncated, info"
      ],
      "metadata": {
        "id": "ISZeuMIAYQeH"
      },
      "execution_count": 15,
      "outputs": []
    },
    {
      "cell_type": "code",
      "source": [
        "# added ex-post: for reproducibility, and to generate the next figure\n",
        "env.reset(seed=42)\n",
        "np.random.seed(42)\n",
        "tf.random.set_seed(42)\n",
        "rewards = []\n",
        "best_score = 0"
      ],
      "metadata": {
        "id": "fCF1Nj-l8Hmk"
      },
      "execution_count": 65,
      "outputs": []
    },
    {
      "cell_type": "code",
      "source": [
        "batch_size = 32\n",
        "discount_factor = 0.95\n",
        "optimizer = tf.keras.optimizers.Nadam(learning_rate=1e-2)\n",
        "loss_fn = tf.keras.losses.mean_squared_error\n",
        "\n",
        "def training_step(batch_size):\n",
        "  experiences = sample_experiences(batch_size)\n",
        "  states, actions, rewards, next_states, dones, truncateds = experiences\n",
        "  next_Q_values = model.predict(next_states, verbose=0)\n",
        "  max_next_Q_values = next_Q_values.max(axis=1)\n",
        "  runs = 1.0 - (dones | truncateds) # episode is not done or truncated\n",
        "  target_Q_values = rewards + runs * discount_factor * max_next_Q_values\n",
        "  target_Q_values = target_Q_values.reshape(-1, 1)\n",
        "  mask = tf.one_hot(actions, n_outputs)\n",
        "  with tf.GradientTape() as tape:\n",
        "    all_Q_values = model(states)\n",
        "    Q_values = tf.reduce_sum(all_Q_values * mask, axis=1, keepdims=True)\n",
        "    loss = tf.reduce_mean(loss_fn(target_Q_values, Q_values))\n",
        "\n",
        "  grads = tape.gradient(loss, model.trainable_variables)\n",
        "  optimizer.apply_gradients(zip(grads, model.trainable_variables))"
      ],
      "metadata": {
        "id": "w32HTkRdYQcV"
      },
      "execution_count": 66,
      "outputs": []
    },
    {
      "cell_type": "code",
      "source": [
        "for episode in range(600):\n",
        "  obs, info = env.reset()\n",
        "  for step in range(200):\n",
        "    epsilon = max(1 - episode / 500, 0.01)\n",
        "    obs, reward, done, truncated, info = play_one_step(env, obs, epsilon)\n",
        "    if done or truncated:\n",
        "      break\n",
        "\n",
        "  # added ex-post: displays debug info, stores data for the next figure, and\n",
        "  #                keeps track of the best model weights so far\n",
        "  print(f\"\\rEpisode: {episode + 1}, Steps: {step + 1}, eps: {epsilon:.3f}\", end=\"\")\n",
        "  rewards.append(step)\n",
        "  if step >= best_score:\n",
        "    best_weights = model.get_weights()\n",
        "    best_score = step\n",
        "\n",
        "  if episode > 50:\n",
        "    training_step(batch_size)\n",
        "\n",
        "model.set_weights(best_weights)  # added ex-post: restores the best model weights"
      ],
      "metadata": {
        "id": "1yZDjMMaYQaQ",
        "colab": {
          "base_uri": "https://localhost:8080/"
        },
        "outputId": "374b60e9-4ee1-4021-bbc6-8cc0aeae65f1"
      },
      "execution_count": 67,
      "outputs": [
        {
          "output_type": "stream",
          "name": "stdout",
          "text": [
            "Episode: 52, Steps: 9, eps: 0.898"
          ]
        },
        {
          "output_type": "stream",
          "name": "stderr",
          "text": [
            "WARNING:tensorflow:5 out of the last 401 calls to <function _BaseOptimizer._update_step_xla at 0x7f6ed6dcc940> triggered tf.function retracing. Tracing is expensive and the excessive number of tracings could be due to (1) creating @tf.function repeatedly in a loop, (2) passing tensors with different shapes, (3) passing Python objects instead of tensors. For (1), please define your @tf.function outside of the loop. For (2), @tf.function has reduce_retracing=True option that can avoid unnecessary retracing. For (3), please refer to https://www.tensorflow.org/guide/function#controlling_retracing and https://www.tensorflow.org/api_docs/python/tf/function for  more details.\n",
            "WARNING:tensorflow:6 out of the last 402 calls to <function _BaseOptimizer._update_step_xla at 0x7f6ed6dcc940> triggered tf.function retracing. Tracing is expensive and the excessive number of tracings could be due to (1) creating @tf.function repeatedly in a loop, (2) passing tensors with different shapes, (3) passing Python objects instead of tensors. For (1), please define your @tf.function outside of the loop. For (2), @tf.function has reduce_retracing=True option that can avoid unnecessary retracing. For (3), please refer to https://www.tensorflow.org/guide/function#controlling_retracing and https://www.tensorflow.org/api_docs/python/tf/function for  more details.\n"
          ]
        },
        {
          "output_type": "stream",
          "name": "stdout",
          "text": [
            "Episode: 600, Steps: 141, eps: 0.010"
          ]
        }
      ]
    },
    {
      "cell_type": "code",
      "source": [
        "# added ex-post: learning curve of the Deep Q-learning (DQN) algorithm\n",
        "plt.figure(figsize=(8, 4))\n",
        "plt.plot(rewards)\n",
        "plt.xlabel(\"Episode\", fontsize=14)\n",
        "plt.ylabel(\"Sum of rewards\", fontsize=14)\n",
        "plt.grid(True)\n",
        "plt.show()"
      ],
      "metadata": {
        "colab": {
          "base_uri": "https://localhost:8080/",
          "height": 393
        },
        "id": "BCZxV_h28vEL",
        "outputId": "029f3234-f566-46b1-87e9-afdf59211442"
      },
      "execution_count": 68,
      "outputs": [
        {
          "output_type": "display_data",
          "data": {
            "text/plain": [
              "<Figure size 800x400 with 1 Axes>"
            ],
            "image/png": "[encoded data removed]"
          },
          "metadata": {}
        }
      ]
    },
    {
      "cell_type": "code",
      "source": [
        "# added ex-post: shows an animation of the trained DQN playing 1 episode\n",
        "show_one_episode(epsilon_greedy_policy)"
      ],
      "metadata": {
        "colab": {
          "base_uri": "https://localhost:8080/"
        },
        "id": "OCl-Kt1n89k6",
        "outputId": "428fd8dd-70d4-4cd6-9c7e-e8ef69893874"
      },
      "execution_count": 69,
      "outputs": [
        {
          "output_type": "execute_result",
          "data": {
            "text/plain": [
              "<matplotlib.animation.FuncAnimation at 0x7f6ed6905270>"
            ]
          },
          "metadata": {},
          "execution_count": 69
        }
      ]
    },
    {
      "cell_type": "markdown",
      "source": [
        "## § 18.11.\tDeep Q-Learning Variants"
      ],
      "metadata": {
        "id": "oWU1pOHqcRn3"
      }
    },
    {
      "cell_type": "markdown",
      "source": [
        "### § 18.11.1.\tFixed Q-value Targets"
      ],
      "metadata": {
        "id": "IIY9ZjXgcViQ"
      }
    },
    {
      "cell_type": "code",
      "source": [
        "# added ex-post: create the same DQN model\n",
        "tf.random.set_seed(42)\n",
        "\n",
        "model = tf.keras.Sequential([\n",
        "    tf.keras.layers.Dense(32, activation=\"elu\", input_shape=input_shape),\n",
        "    tf.keras.layers.Dense(32, activation=\"elu\"),\n",
        "    tf.keras.layers.Dense(n_outputs)\n",
        "])"
      ],
      "metadata": {
        "id": "_8HGLWuS9ITy"
      },
      "execution_count": 70,
      "outputs": []
    },
    {
      "cell_type": "code",
      "source": [
        "target = tf.keras.models.clone_model(model) # clone the model's architecture\n",
        "target.set_weights(model.get_weights()) # copy the weights"
      ],
      "metadata": {
        "id": "8aHElT0lcRZF"
      },
      "execution_count": 71,
      "outputs": []
    },
    {
      "cell_type": "code",
      "source": [
        "# next_Q_values = target.predict(next_states, verbose=0)"
      ],
      "metadata": {
        "id": "HZwatZBYcRVu"
      },
      "execution_count": 72,
      "outputs": []
    },
    {
      "cell_type": "code",
      "source": [
        "# if episode % 50 == 0:\n",
        "#   target.set_weights(model.get_weights())"
      ],
      "metadata": {
        "id": "1T_bVQ1wcRT2"
      },
      "execution_count": 73,
      "outputs": []
    },
    {
      "cell_type": "code",
      "source": [
        "# modified ex-post: same code as above except for the lines marked w/ \"<= CHANGED\"\n",
        "env.reset(seed=42)\n",
        "np.random.seed(42)\n",
        "tf.random.set_seed(42)\n",
        "rewards = []\n",
        "best_score = 0\n",
        "\n",
        "batch_size = 32\n",
        "discount_factor = 0.95\n",
        "optimizer = tf.keras.optimizers.Nadam(learning_rate=1e-2)\n",
        "loss_fn = tf.keras.losses.mean_squared_error\n",
        "\n",
        "replay_buffer = deque(maxlen=2000) # resets the replay buffer\n",
        "\n",
        "def training_step(batch_size):\n",
        "  experiences = sample_experiences(batch_size)\n",
        "  states, actions, rewards, next_states, dones, truncateds = experiences\n",
        "  next_Q_values = target.predict(next_states, verbose=0) # <= CHANGED\n",
        "  max_next_Q_values = next_Q_values.max(axis=1)\n",
        "  runs = 1.0 - (dones | truncateds) # episode is not done or truncated\n",
        "  target_Q_values = rewards + runs * discount_factor * max_next_Q_values\n",
        "  target_Q_values = target_Q_values.reshape(-1, 1)\n",
        "  mask = tf.one_hot(actions, n_outputs)\n",
        "  with tf.GradientTape() as tape:\n",
        "    all_Q_values = model(states)\n",
        "    Q_values = tf.reduce_sum(all_Q_values * mask, axis=1, keepdims=True)\n",
        "    loss = tf.reduce_mean(loss_fn(target_Q_values, Q_values))\n",
        "\n",
        "  grads = tape.gradient(loss, model.trainable_variables)\n",
        "  optimizer.apply_gradients(zip(grads, model.trainable_variables))"
      ],
      "metadata": {
        "id": "rPc1SwsZ9l2P"
      },
      "execution_count": 74,
      "outputs": []
    },
    {
      "cell_type": "code",
      "source": [
        "for episode in range(600):\n",
        "  obs, info = env.reset()\n",
        "  for step in range(200):\n",
        "    epsilon = max(1 - episode / 500, 0.01)\n",
        "    obs, reward, done, info, truncated = play_one_step(env, obs, epsilon)\n",
        "    if done or truncated:\n",
        "      break\n",
        "\n",
        "  # added ex-post: displays debug info, stores data for the next figure, and\n",
        "  #                keeps track of the best model weights so far\n",
        "  print(f\"\\rEpisode: {episode + 1}, Steps: {step + 1}, eps: {epsilon:.3f}\", end=\"\")\n",
        "  rewards.append(step)\n",
        "  if step >= best_score:\n",
        "    best_weights = model.get_weights()\n",
        "    best_score = step\n",
        "\n",
        "  if episode > 50:\n",
        "    training_step(batch_size)\n",
        "    if episode % 50 == 0:                        # <= CHANGED\n",
        "      target.set_weights(model.get_weights())  # <= CHANGED\n",
        "\n",
        "  # Alternatively, you can do soft updates at each step:\n",
        "  # if episode > 50:\n",
        "  #   training_step(batch_size)\n",
        "  #   target_weights = target.get_weights()\n",
        "  #   online_weights = model.get_weights()\n",
        "  #   for index, online_weight in enumerate(online_weights):\n",
        "  #     target_weights[index] = (0.99 * target_weights[index]\n",
        "  #                              + 0.01 * online_weight)\n",
        "  #     target.set_weights(target_weights)\n",
        "\n",
        "model.set_weights(best_weights) # added ex-post: restores the best model weights"
      ],
      "metadata": {
        "colab": {
          "base_uri": "https://localhost:8080/"
        },
        "id": "FdSIaHs096_x",
        "outputId": "925c8619-f105-4b89-e89c-bc95d639af69"
      },
      "execution_count": 75,
      "outputs": [
        {
          "output_type": "stream",
          "name": "stdout",
          "text": [
            "Episode: 600, Steps: 192, eps: 0.010"
          ]
        }
      ]
    },
    {
      "cell_type": "code",
      "source": [
        "# added ex-post: plot the learning curve\n",
        "plt.figure(figsize=(8, 4))\n",
        "plt.plot(rewards)\n",
        "plt.xlabel(\"Episode\", fontsize=14)\n",
        "plt.ylabel(\"Sum of rewards\", fontsize=14)\n",
        "plt.grid(True)\n",
        "plt.show()"
      ],
      "metadata": {
        "colab": {
          "base_uri": "https://localhost:8080/",
          "height": 393
        },
        "id": "3cPk7UUN-Bvj",
        "outputId": "d8870c34-275b-4fff-c820-08d89602d558"
      },
      "execution_count": 76,
      "outputs": [
        {
          "output_type": "display_data",
          "data": {
            "text/plain": [
              "<Figure size 800x400 with 1 Axes>"
            ],
            "image/png": "[encoded data removed]"
          },
          "metadata": {}
        }
      ]
    },
    {
      "cell_type": "code",
      "source": [
        "# added ex-post: shows an animation of the trained DQN playing 1 episode\n",
        "show_one_episode(epsilon_greedy_policy)"
      ],
      "metadata": {
        "colab": {
          "base_uri": "https://localhost:8080/"
        },
        "id": "YFoluzv--FJd",
        "outputId": "66183d91-3d7f-4fec-e99d-79fcfd2b6993"
      },
      "execution_count": 77,
      "outputs": [
        {
          "output_type": "execute_result",
          "data": {
            "text/plain": [
              "<matplotlib.animation.FuncAnimation at 0x7f6ed5dfe080>"
            ]
          },
          "metadata": {},
          "execution_count": 77
        }
      ]
    },
    {
      "cell_type": "markdown",
      "source": [
        "### § 18.11.2.\tDouble DQN"
      ],
      "metadata": {
        "id": "iEbYu8gjdCSr"
      }
    },
    {
      "cell_type": "code",
      "source": [
        "import numpy as np"
      ],
      "metadata": {
        "id": "PpBpeqtx1ifV"
      },
      "execution_count": 9,
      "outputs": []
    },
    {
      "cell_type": "code",
      "source": [
        "# added ex-post: see above\n",
        "tf.random.set_seed(42)\n",
        "\n",
        "model = tf.keras.Sequential([\n",
        "    tf.keras.layers.Dense(32, activation=\"elu\", input_shape=input_shape),\n",
        "    tf.keras.layers.Dense(32, activation=\"elu\"),\n",
        "    tf.keras.layers.Dense(n_outputs)\n",
        "])\n",
        "\n",
        "target = tf.keras.models.clone_model(model) # clone the model's architecture\n",
        "target.set_weights(model.get_weights()) # copy the weights\n",
        "\n",
        "env.reset(seed=42)\n",
        "np.random.seed(42)\n",
        "tf.random.set_seed(42)\n",
        "rewards = []\n",
        "best_score = 0\n",
        "\n",
        "batch_size = 32\n",
        "discount_factor = 0.95\n",
        "optimizer = tf.keras.optimizers.Nadam(learning_rate=1e-2)\n",
        "loss_fn = tf.keras.losses.mean_squared_error"
      ],
      "metadata": {
        "id": "GlM7NBN7_KaO"
      },
      "execution_count": 10,
      "outputs": []
    },
    {
      "cell_type": "code",
      "source": [
        "def training_step(batch_size):\n",
        "  experiences = sample_experiences(batch_size)\n",
        "  states, actions, rewards, next_states, dones, truncateds = experiences\n",
        "\n",
        "  # modified ex-post:\n",
        "  next_Q_values = model.predict(next_states, verbose=0) # != target.predict()\n",
        "  best_next_actions = next_Q_values.argmax(axis=1)\n",
        "  next_mask = tf.one_hot(best_next_actions, n_outputs).numpy()\n",
        "  max_next_Q_values = (target.predict(next_states, verbose=0) * next_mask\n",
        "                       ).sum(axis=1)\n",
        "\n",
        "  # the rest is the same as above:\n",
        "  runs = 1.0 - (dones | truncateds)  # episode is not done or truncated\n",
        "  target_Q_values = rewards + runs * discount_factor * max_next_Q_values\n",
        "  target_Q_values = target_Q_values.reshape(-1, 1)\n",
        "  mask = tf.one_hot(actions, n_outputs)\n",
        "  with tf.GradientTape() as tape:\n",
        "    all_Q_values = model(states)\n",
        "    Q_values = tf.reduce_sum(all_Q_values * mask, axis=1, keepdims=True)\n",
        "    loss = tf.reduce_mean(loss_fn(target_Q_values, Q_values))\n",
        "\n",
        "  grads = tape.gradient(loss, model.trainable_variables)\n",
        "  optimizer.apply_gradients(zip(grads, model.trainable_variables))\n",
        "\n",
        "replay_buffer = deque(maxlen=2000)\n",
        "\n",
        "# for episode in range(600): # session crashed at episode 589 ...\n",
        "for episode in range(120):\n",
        "  obs, info = env.reset()\n",
        "  for step in range(200):\n",
        "    # epsilon = max(1 - episode / 500, 0.01)\n",
        "    epsilon = max(1 - episode / 100, 0.01)\n",
        "    obs, reward, done, info, truncated = play_one_step(env, obs, epsilon)\n",
        "    if done or truncated:\n",
        "      break\n",
        "\n",
        "  print(f\"\\rEpisode: {episode + 1}, Steps: {step + 1}, eps: {epsilon:.3f}\", end=\"\")\n",
        "  rewards.append(step)\n",
        "  if step >= best_score:\n",
        "    best_weights = model.get_weights()\n",
        "    best_score = step\n",
        "\n",
        "  if episode > 50:\n",
        "    training_step(batch_size)\n",
        "    if episode % 50 == 0:\n",
        "      target.set_weights(model.get_weights())\n",
        "\n",
        "model.set_weights(best_weights)"
      ],
      "metadata": {
        "id": "_KceRFeXcRSF",
        "colab": {
          "base_uri": "https://localhost:8080/"
        },
        "outputId": "054e40ec-c50f-4174-aab8-2167dae1d928"
      },
      "execution_count": 20,
      "outputs": [
        {
          "output_type": "stream",
          "name": "stdout",
          "text": [
            "Episode: 52, Steps: 10, eps: 0.490"
          ]
        },
        {
          "output_type": "stream",
          "name": "stderr",
          "text": [
            "WARNING:tensorflow:5 out of the last 5 calls to <function _BaseOptimizer._update_step_xla at 0x7edb1b9477f0> triggered tf.function retracing. Tracing is expensive and the excessive number of tracings could be due to (1) creating @tf.function repeatedly in a loop, (2) passing tensors with different shapes, (3) passing Python objects instead of tensors. For (1), please define your @tf.function outside of the loop. For (2), @tf.function has reduce_retracing=True option that can avoid unnecessary retracing. For (3), please refer to https://www.tensorflow.org/guide/function#controlling_retracing and https://www.tensorflow.org/api_docs/python/tf/function for  more details.\n",
            "WARNING:tensorflow:6 out of the last 6 calls to <function _BaseOptimizer._update_step_xla at 0x7edb1b9477f0> triggered tf.function retracing. Tracing is expensive and the excessive number of tracings could be due to (1) creating @tf.function repeatedly in a loop, (2) passing tensors with different shapes, (3) passing Python objects instead of tensors. For (1), please define your @tf.function outside of the loop. For (2), @tf.function has reduce_retracing=True option that can avoid unnecessary retracing. For (3), please refer to https://www.tensorflow.org/guide/function#controlling_retracing and https://www.tensorflow.org/api_docs/python/tf/function for  more details.\n"
          ]
        },
        {
          "output_type": "stream",
          "name": "stdout",
          "text": [
            "Episode: 120, Steps: 9, eps: 0.010"
          ]
        }
      ]
    },
    {
      "cell_type": "code",
      "source": [
        "# added ex-post: plot the learning curve\n",
        "plt.figure(figsize=(8, 4))\n",
        "plt.plot(rewards)\n",
        "plt.xlabel(\"Episode\", fontsize=14)\n",
        "plt.ylabel(\"Sum of rewards\", fontsize=14)\n",
        "plt.grid(True)\n",
        "plt.show()"
      ],
      "metadata": {
        "colab": {
          "base_uri": "https://localhost:8080/",
          "height": 395
        },
        "id": "X3RjaEzuAJrJ",
        "outputId": "98807882-ac96-4c14-c8df-2027357e23b3"
      },
      "execution_count": 21,
      "outputs": [
        {
          "output_type": "display_data",
          "data": {
            "text/plain": [
              "<Figure size 800x400 with 1 Axes>"
            ],
            "image/png": "[encoded data removed]"
          },
          "metadata": {}
        }
      ]
    },
    {
      "cell_type": "code",
      "source": [
        "# added ex-post: shows an animation of the trained DQN playing 1 episode\n",
        "show_one_episode(epsilon_greedy_policy)"
      ],
      "metadata": {
        "colab": {
          "base_uri": "https://localhost:8080/"
        },
        "id": "NW23Zz6TARHX",
        "outputId": "9cbc9452-8a01-4435-90b5-3ca52b38af7b"
      },
      "execution_count": 26,
      "outputs": [
        {
          "output_type": "execute_result",
          "data": {
            "text/plain": [
              "<matplotlib.animation.FuncAnimation at 0x7edafce90eb0>"
            ]
          },
          "metadata": {},
          "execution_count": 26
        }
      ]
    },
    {
      "cell_type": "code",
      "source": [
        "# added ex-post: Dueling Double DQN\n",
        "tf.random.set_seed(42)"
      ],
      "metadata": {
        "id": "C5h7BM_qAREy"
      },
      "execution_count": 27,
      "outputs": []
    },
    {
      "cell_type": "code",
      "source": [
        "input_states = tf.keras.layers.Input(shape=[4])\n",
        "hidden1 = tf.keras.layers.Dense(32, activation=\"elu\")(input_states)\n",
        "hidden2 = tf.keras.layers.Dense(32, activation=\"elu\")(hidden1)\n",
        "state_values = tf.keras.layers.Dense(1)(hidden2)\n",
        "raw_advantages = tf.keras.layers.Dense(n_outputs)(hidden2)\n",
        "advantages = raw_advantages - tf.reduce_max(raw_advantages, axis=1, keepdims=True)\n",
        "Q_values = state_values + advantages\n",
        "model = tf.keras.Model(inputs=[input_states], outputs=[Q_values])"
      ],
      "metadata": {
        "id": "djNRmP_UVoUb"
      },
      "execution_count": 28,
      "outputs": []
    },
    {
      "cell_type": "code",
      "source": [
        "# added ex-post: train the model\n",
        "\n",
        "batch_size = 32\n",
        "discount_factor = 0.95\n",
        "optimizer = tf.keras.optimizers.Nadam(learning_rate=5e-3)\n",
        "loss_fn = tf.keras.losses.mean_squared_error\n",
        "\n",
        "target = tf.keras.models.clone_model(model) # clone the model's architecture\n",
        "target.set_weights(model.get_weights()) # copy the weights\n",
        "\n",
        "env.reset(seed=42)\n",
        "replay_buffer = deque(maxlen=2000)\n",
        "rewards = []\n",
        "best_score = 0\n",
        "\n",
        "# for episode in range(600):\n",
        "for episode in range(120):\n",
        "  obs, info = env.reset()\n",
        "  for step in range(200):\n",
        "    # epsilon = max(1 - episode / 500, 0.01)\n",
        "    epsilon = max(1 - episode / 100, 0.01)\n",
        "    obs, reward, done, info, truncated = play_one_step(env, obs, epsilon)\n",
        "    if done or truncated:\n",
        "      break\n",
        "\n",
        "  print(f\"\\rEpisode: {episode + 1}, Steps: {step + 1}, eps: {epsilon:.3f}\", end=\"\")\n",
        "  rewards.append(step)\n",
        "  if step >= best_score:\n",
        "    best_weights = model.get_weights()\n",
        "    best_score = step\n",
        "\n",
        "  if episode > 50:\n",
        "    training_step(batch_size)\n",
        "    if episode % 50 == 0:\n",
        "      target.set_weights(model.get_weights())\n",
        "\n",
        "model.set_weights(best_weights)"
      ],
      "metadata": {
        "colab": {
          "base_uri": "https://localhost:8080/"
        },
        "id": "jw9N7S3BApPw",
        "outputId": "f95f8b62-030a-48a7-80f4-c46ea6d99ba1"
      },
      "execution_count": 29,
      "outputs": [
        {
          "output_type": "stream",
          "name": "stdout",
          "text": [
            "Episode: 120, Steps: 9, eps: 0.010"
          ]
        }
      ]
    },
    {
      "cell_type": "code",
      "source": [
        "# added ex-post: plot the learning curve\n",
        "plt.figure(figsize=(8, 4))\n",
        "plt.plot(rewards)\n",
        "plt.xlabel(\"Episode\", fontsize=14)\n",
        "plt.ylabel(\"Sum of rewards\", fontsize=14)\n",
        "plt.grid(True)\n",
        "plt.show()"
      ],
      "metadata": {
        "colab": {
          "base_uri": "https://localhost:8080/",
          "height": 393
        },
        "id": "sDpUFc5rBEhX",
        "outputId": "922c1340-55c8-4a8c-b307-ef78bc71398b"
      },
      "execution_count": 30,
      "outputs": [
        {
          "output_type": "display_data",
          "data": {
            "text/plain": [
              "<Figure size 800x400 with 1 Axes>"
            ],
            "image/png": "[encoded data removed]"
          },
          "metadata": {}
        }
      ]
    },
    {
      "cell_type": "code",
      "source": [
        "# added ex-post: shows an animation of the trained DQN playing 1 episode\n",
        "show_one_episode(epsilon_greedy_policy)"
      ],
      "metadata": {
        "colab": {
          "base_uri": "https://localhost:8080/"
        },
        "id": "mI6p9-_BBKgd",
        "outputId": "fd2964b7-76b3-455b-8409-ed97d9ab5633"
      },
      "execution_count": 31,
      "outputs": [
        {
          "output_type": "execute_result",
          "data": {
            "text/plain": [
              "<matplotlib.animation.FuncAnimation at 0x7edaebf29900>"
            ]
          },
          "metadata": {},
          "execution_count": 31
        }
      ]
    },
    {
      "cell_type": "code",
      "source": [
        "env.close() # added ex-post"
      ],
      "metadata": {
        "id": "qDree9kYBQNr"
      },
      "execution_count": 32,
      "outputs": []
    },
    {
      "cell_type": "code",
      "source": [],
      "metadata": {
        "id": "xdHmEOsp3OpS"
      },
      "execution_count": 32,
      "outputs": []
    },
    {
      "cell_type": "markdown",
      "source": [
        "## § 18.13.\tExercises"
      ],
      "metadata": {
        "id": "aaDrA8ilhsBT"
      }
    },
    {
      "cell_type": "markdown",
      "source": [
        "8) Use policy gradients to solve OpenAI Gym's LunarLander-v2 environment."
      ],
      "metadata": {
        "id": "svomcaxH1Rcf"
      }
    },
    {
      "cell_type": "code",
      "source": [
        "%pip install swig"
      ],
      "metadata": {
        "colab": {
          "base_uri": "https://localhost:8080/"
        },
        "id": "bJGSSXRC4G9C",
        "outputId": "fe8bd4d8-265b-4d24-d47b-6f347ff6b967"
      },
      "execution_count": 9,
      "outputs": [
        {
          "output_type": "stream",
          "name": "stdout",
          "text": [
            "Requirement already satisfied: swig in /usr/local/lib/python3.10/dist-packages (4.1.1.post1)\n"
          ]
        }
      ]
    },
    {
      "cell_type": "code",
      "source": [
        "%pip install gym[box2d]"
      ],
      "metadata": {
        "colab": {
          "base_uri": "https://localhost:8080/"
        },
        "id": "IT2v9-JI3btN",
        "outputId": "f4514894-89c0-4539-a585-f4b01e2bd3ef"
      },
      "execution_count": 10,
      "outputs": [
        {
          "output_type": "stream",
          "name": "stdout",
          "text": [
            "Requirement already satisfied: gym[box2d] in /usr/local/lib/python3.10/dist-packages (0.26.2)\n",
            "Requirement already satisfied: numpy>=1.18.0 in /usr/local/lib/python3.10/dist-packages (from gym[box2d]) (1.23.5)\n",
            "Requirement already satisfied: cloudpickle>=1.2.0 in /usr/local/lib/python3.10/dist-packages (from gym[box2d]) (2.2.1)\n",
            "Requirement already satisfied: gym-notices>=0.0.4 in /usr/local/lib/python3.10/dist-packages (from gym[box2d]) (0.0.8)\n",
            "Requirement already satisfied: box2d-py==2.3.5 in /usr/local/lib/python3.10/dist-packages (from gym[box2d]) (2.3.5)\n",
            "Requirement already satisfied: pygame==2.1.0 in /usr/local/lib/python3.10/dist-packages (from gym[box2d]) (2.1.0)\n",
            "Requirement already satisfied: swig==4.* in /usr/local/lib/python3.10/dist-packages (from gym[box2d]) (4.1.1.post1)\n"
          ]
        }
      ]
    },
    {
      "cell_type": "code",
      "source": [
        "env = gym.make(\"LunarLander-v2\", render_mode=\"rgb_array\")"
      ],
      "metadata": {
        "id": "B3chAluedENp"
      },
      "execution_count": 12,
      "outputs": []
    },
    {
      "cell_type": "code",
      "source": [
        "env.observation_space"
      ],
      "metadata": {
        "colab": {
          "base_uri": "https://localhost:8080/"
        },
        "id": "1ouzYgnCBYx6",
        "outputId": "c618b743-9bf5-4ac8-f84e-68121f68a3b2"
      },
      "execution_count": 13,
      "outputs": [
        {
          "output_type": "execute_result",
          "data": {
            "text/plain": [
              "Box([-1.5       -1.5       -5.        -5.        -3.1415927 -5.\n",
              " -0.        -0.       ], [1.5       1.5       5.        5.        3.1415927 5.        1.\n",
              " 1.       ], (8,), float32)"
            ]
          },
          "metadata": {},
          "execution_count": 13
        }
      ]
    },
    {
      "cell_type": "code",
      "source": [
        "obs, info = env.reset(seed=42)\n",
        "obs"
      ],
      "metadata": {
        "colab": {
          "base_uri": "https://localhost:8080/"
        },
        "id": "4fyDrM31BYvL",
        "outputId": "9912bbd9-7f6a-4316-e0ca-8c617bfb5077"
      },
      "execution_count": 14,
      "outputs": [
        {
          "output_type": "execute_result",
          "data": {
            "text/plain": [
              "array([ 0.00229702,  1.4181306 ,  0.2326471 ,  0.3204666 , -0.00265488,\n",
              "       -0.05269805,  0.        ,  0.        ], dtype=float32)"
            ]
          },
          "metadata": {},
          "execution_count": 14
        }
      ]
    },
    {
      "cell_type": "code",
      "source": [
        "# source code: https://github.com/openai/gym/blob/master/gym/envs/box2d/lunar_lander.py"
      ],
      "metadata": {
        "id": "Ig3ye5j2Bns4"
      },
      "execution_count": 15,
      "outputs": []
    },
    {
      "cell_type": "code",
      "source": [
        "env.action_space # actions: do nothing, fire left / main / right orientation engine"
      ],
      "metadata": {
        "colab": {
          "base_uri": "https://localhost:8080/"
        },
        "id": "KcJBybA4Be4t",
        "outputId": "c6d20dff-0616-4130-81cd-1973f4cfc6f7"
      },
      "execution_count": 16,
      "outputs": [
        {
          "output_type": "execute_result",
          "data": {
            "text/plain": [
              "Discrete(4)"
            ]
          },
          "metadata": {},
          "execution_count": 16
        }
      ]
    },
    {
      "cell_type": "code",
      "source": [
        "import numpy as np"
      ],
      "metadata": {
        "id": "FUpAPN7n99PH"
      },
      "execution_count": 17,
      "outputs": []
    },
    {
      "cell_type": "code",
      "source": [
        "np.random.seed(42)\n",
        "tf.random.set_seed(42)\n",
        "\n",
        "n_inputs = env.observation_space.shape[0]\n",
        "n_outputs = env.action_space.n\n",
        "\n",
        "model = tf.keras.Sequential([\n",
        "    tf.keras.layers.Dense(32, activation=\"relu\", input_shape=[n_inputs]),\n",
        "    tf.keras.layers.Dense(32, activation=\"relu\"),\n",
        "    tf.keras.layers.Dense(n_outputs, activation=\"softmax\")\n",
        "])"
      ],
      "metadata": {
        "id": "R2HqKEMBBe16"
      },
      "execution_count": 18,
      "outputs": []
    },
    {
      "cell_type": "code",
      "source": [
        "def lander_play_one_step(env, obs, model, loss_fn):\n",
        "  with tf.GradientTape() as tape:\n",
        "    probas = model(obs[np.newaxis])\n",
        "    logits = tf.math.log(probas + tf.keras.backend.epsilon())\n",
        "    action = tf.random.categorical(logits, num_samples=1)\n",
        "    loss = tf.reduce_mean(loss_fn(action, probas))\n",
        "  grads = tape.gradient(loss, model.trainable_variables)\n",
        "  obs, reward, done, info, truncated = env.step(action[0, 0].numpy())\n",
        "  return obs, reward, done, truncated, grads\n",
        "\n",
        "def lander_play_multiple_episodes(env, n_episodes, n_max_steps, model, loss_fn):\n",
        "  all_rewards = []\n",
        "  all_grads = []\n",
        "  for episode in range(n_episodes):\n",
        "    current_rewards = []\n",
        "    current_grads = []\n",
        "    obs, info = env.reset()\n",
        "    for step in range(n_max_steps):\n",
        "      obs, reward, done, truncated, grads = lander_play_one_step(\n",
        "          env, obs, model, loss_fn)\n",
        "      current_rewards.append(reward)\n",
        "      current_grads.append(grads)\n",
        "      if done or truncated:\n",
        "        break\n",
        "    all_rewards.append(current_rewards)\n",
        "    all_grads.append(current_grads)\n",
        "  return all_rewards, all_grads"
      ],
      "metadata": {
        "id": "j00YH3CbCFJA"
      },
      "execution_count": 19,
      "outputs": []
    },
    {
      "cell_type": "code",
      "source": [
        "def discount_rewards(rewards, discount_factor):\n",
        "  discounted = np.array(rewards)\n",
        "  for step in range(len(rewards) - 2, -1, -1):\n",
        "    discounted[step] += discounted[step + 1] * discount_factor\n",
        "  return discounted\n",
        "\n",
        "def discount_and_normalize_rewards(all_rewards, discount_factor):\n",
        "  all_discounted_rewards = [discount_rewards(rewards, discount_factor)\n",
        "                            for rewards in all_rewards]\n",
        "  flat_rewards = np.concatenate(all_discounted_rewards)\n",
        "  reward_mean = flat_rewards.mean()\n",
        "  reward_std = flat_rewards.std()\n",
        "  return [(discounted_rewards - reward_mean) / reward_std\n",
        "          for discounted_rewards in all_discounted_rewards]"
      ],
      "metadata": {
        "id": "PQE8C5lTCbul"
      },
      "execution_count": 20,
      "outputs": []
    },
    {
      "cell_type": "code",
      "source": [
        "# n_iterations = 200 # RAM exhausted at 67 ...\n",
        "n_iterations = 60\n",
        "n_episodes_per_update = 16\n",
        "# n_max_steps = 1000\n",
        "n_max_steps = 200\n",
        "discount_factor = 0.99"
      ],
      "metadata": {
        "id": "1SYSZ2nXCbsg"
      },
      "execution_count": 21,
      "outputs": []
    },
    {
      "cell_type": "code",
      "source": [
        "optimizer = tf.keras.optimizers.Nadam(learning_rate=0.005)\n",
        "loss_fn = tf.keras.losses.sparse_categorical_crossentropy"
      ],
      "metadata": {
        "id": "UnDxouVCCbqG"
      },
      "execution_count": 22,
      "outputs": []
    },
    {
      "cell_type": "code",
      "source": [
        "env.reset(seed=42)\n",
        "\n",
        "mean_rewards = []\n",
        "\n",
        "for iteration in range(n_iterations):\n",
        "  all_rewards, all_grads = lander_play_multiple_episodes(\n",
        "      env, n_episodes_per_update, n_max_steps, model, loss_fn)\n",
        "  mean_reward = sum(map(sum, all_rewards)) / n_episodes_per_update\n",
        "  print(f\"\\rIteration: {iteration + 1}/{n_iterations},\"\n",
        "        f\" mean reward: {mean_reward:.1f}  \", end=\"\")\n",
        "  mean_rewards.append(mean_reward)\n",
        "  all_final_rewards = discount_and_normalize_rewards(all_rewards, discount_factor)\n",
        "  all_mean_grads = []\n",
        "  for var_index in range(len(model.trainable_variables)):\n",
        "    mean_grads = tf.reduce_mean(\n",
        "        [final_reward * all_grads[episode_index][step][var_index]\n",
        "        for episode_index, final_rewards in enumerate(all_final_rewards)\n",
        "          for step, final_reward in enumerate(final_rewards)], axis=0)\n",
        "    all_mean_grads.append(mean_grads)\n",
        "  optimizer.apply_gradients(zip(all_mean_grads, model.trainable_variables))"
      ],
      "metadata": {
        "colab": {
          "base_uri": "https://localhost:8080/"
        },
        "id": "j4HlH0DcCtQw",
        "outputId": "bd2bd8cb-c432-4e53-e242-59715737826a"
      },
      "execution_count": 23,
      "outputs": [
        {
          "output_type": "stream",
          "name": "stdout",
          "text": [
            "\rIteration: 1/60, mean reward: -213.7  "
          ]
        },
        {
          "output_type": "stream",
          "name": "stderr",
          "text": [
            "WARNING:tensorflow:5 out of the last 5 calls to <function _BaseOptimizer._update_step_xla at 0x7e112b9f3010> triggered tf.function retracing. Tracing is expensive and the excessive number of tracings could be due to (1) creating @tf.function repeatedly in a loop, (2) passing tensors with different shapes, (3) passing Python objects instead of tensors. For (1), please define your @tf.function outside of the loop. For (2), @tf.function has reduce_retracing=True option that can avoid unnecessary retracing. For (3), please refer to https://www.tensorflow.org/guide/function#controlling_retracing and https://www.tensorflow.org/api_docs/python/tf/function for  more details.\n",
            "WARNING:tensorflow:6 out of the last 6 calls to <function _BaseOptimizer._update_step_xla at 0x7e112b9f3010> triggered tf.function retracing. Tracing is expensive and the excessive number of tracings could be due to (1) creating @tf.function repeatedly in a loop, (2) passing tensors with different shapes, (3) passing Python objects instead of tensors. For (1), please define your @tf.function outside of the loop. For (2), @tf.function has reduce_retracing=True option that can avoid unnecessary retracing. For (3), please refer to https://www.tensorflow.org/guide/function#controlling_retracing and https://www.tensorflow.org/api_docs/python/tf/function for  more details.\n"
          ]
        },
        {
          "output_type": "stream",
          "name": "stdout",
          "text": [
            "Iteration: 60/60, mean reward: 14.5  "
          ]
        }
      ]
    },
    {
      "cell_type": "code",
      "source": [
        "plt.plot(mean_rewards)\n",
        "plt.xlabel(\"Episode\")\n",
        "plt.ylabel(\"Mean reward\")\n",
        "plt.grid()\n",
        "plt.show()"
      ],
      "metadata": {
        "colab": {
          "base_uri": "https://localhost:8080/",
          "height": 449
        },
        "id": "6VwsL51rC_4d",
        "outputId": "1a115c10-f673-4795-cfda-fedf13f72429"
      },
      "execution_count": 24,
      "outputs": [
        {
          "output_type": "display_data",
          "data": {
            "text/plain": [
              "<Figure size 640x480 with 1 Axes>"
            ],
            "image/png": "[encoded data removed]"
          },
          "metadata": {}
        }
      ]
    },
    {
      "cell_type": "code",
      "source": [
        "# def lander_render_policy_net(model, n_max_steps=500, seed=42):\n",
        "def lander_render_policy_net(model, n_max_steps=200, seed=42):\n",
        "  frames = []\n",
        "  env = gym.make(\"LunarLander-v2\", render_mode=\"rgb_array\")\n",
        "  tf.random.set_seed(seed)\n",
        "  np.random.seed(seed)\n",
        "  obs, info = env.reset(seed=seed)\n",
        "  for step in range(n_max_steps):\n",
        "    frames.append(env.render())\n",
        "    probas = model(obs[np.newaxis])\n",
        "    logits = tf.math.log(probas + tf.keras.backend.epsilon())\n",
        "    action = tf.random.categorical(logits, num_samples=1)\n",
        "    obs, reward, done, truncated, info = env.step(action[0, 0].numpy())\n",
        "    if done or truncated:\n",
        "      break\n",
        "  env.close()\n",
        "  return frames"
      ],
      "metadata": {
        "id": "xERymjH4DC2V"
      },
      "execution_count": 25,
      "outputs": []
    },
    {
      "cell_type": "code",
      "source": [
        "frames = lander_render_policy_net(model, seed=42)\n",
        "plot_animation(frames)"
      ],
      "metadata": {
        "colab": {
          "base_uri": "https://localhost:8080/"
        },
        "id": "znQ1UhKJBezg",
        "outputId": "a3e2db36-ccd4-474f-9bd9-600b5bf9fa0d"
      },
      "execution_count": 30,
      "outputs": [
        {
          "output_type": "execute_result",
          "data": {
            "text/plain": [
              "<matplotlib.animation.FuncAnimation at 0x7e11083c09d0>"
            ]
          },
          "metadata": {},
          "execution_count": 30
        }
      ]
    },
    {
      "cell_type": "code",
      "source": [],
      "metadata": {
        "id": "M8m2QynWdEKT"
      },
      "execution_count": 30,
      "outputs": []
    },
    {
      "cell_type": "markdown",
      "source": [
        "9) Use a Double Dueling DQN to train an agent that can achieve a superhuman level at the famous Atari Breakout game (`\"ALE/Breakout-v5\"`). The observations are images. To simplify the task, you should convert them to grayscale (i.e., average over the channels axis), crop them and downsample them, so they're just large enough to play, but not much more. An individual image does not tell you which way the ball and the paddles are going, so you should merge two or three consecutive images to form each state. Lastly, the DQN should be composed mostly of convolutional layers."
      ],
      "metadata": {
        "id": "x9O39CLq1XHw"
      }
    },
    {
      "cell_type": "code",
      "source": [
        "# link: https://paperswithcode.com/task/atari-games"
      ],
      "metadata": {
        "id": "HQ-IqUYydEIG"
      },
      "execution_count": 31,
      "outputs": []
    },
    {
      "cell_type": "code",
      "source": [
        "env = gym.make(\"ALE/Breakout-v5\")"
      ],
      "metadata": {
        "id": "GE_Gm6VrG4ll"
      },
      "execution_count": 32,
      "outputs": []
    },
    {
      "cell_type": "code",
      "source": [
        "print(gym.make(\"ALE/Breakout-v5\"))"
      ],
      "metadata": {
        "colab": {
          "base_uri": "https://localhost:8080/"
        },
        "id": "gxG-LCshGUEj",
        "outputId": "121930bc-9590-41a9-cb2e-070b4fa75be9"
      },
      "execution_count": 33,
      "outputs": [
        {
          "output_type": "stream",
          "name": "stdout",
          "text": [
            "<OrderEnforcing<PassiveEnvChecker<AtariEnv<ALE/Breakout-v5>>>>\n"
          ]
        }
      ]
    },
    {
      "cell_type": "code",
      "source": [
        "envs = gym.envs.registry\n",
        "sorted(envs.keys())[:5] + [\"...\"] # now we're talking ..."
      ],
      "metadata": {
        "colab": {
          "base_uri": "https://localhost:8080/"
        },
        "id": "8x5yNjB7OJt2",
        "outputId": "8c2621e3-a532-468b-b4ad-17680171af61"
      },
      "execution_count": 34,
      "outputs": [
        {
          "output_type": "execute_result",
          "data": {
            "text/plain": [
              "['ALE/Adventure-ram-v5',\n",
              " 'ALE/Adventure-v5',\n",
              " 'ALE/AirRaid-ram-v5',\n",
              " 'ALE/AirRaid-v5',\n",
              " 'ALE/Alien-ram-v5',\n",
              " '...']"
            ]
          },
          "metadata": {},
          "execution_count": 34
        }
      ]
    },
    {
      "cell_type": "code",
      "source": [],
      "metadata": {
        "id": "gEnKlmVoQoa-"
      },
      "execution_count": null,
      "outputs": []
    },
    {
      "cell_type": "code",
      "source": [],
      "metadata": {
        "id": "at-f8sTYFk7r"
      },
      "execution_count": null,
      "outputs": []
    },
    {
      "cell_type": "markdown",
      "source": [
        "10) If you have about $100 to spare, you can purchase a Raspberry Pi 3 plus some cheap robotics components, install TensorFlow on the Pi, and go wild! For ex., check out this [fun post](https://homl.info/2) by Lukas Biewald, or take a look at GoPiGo or BrickPi. Start with simple goals, like making the robot turn around to find the brightest angle (if it has a light sensor) or the closest object (if it has a sonar sensor), and move in that direction. Then you can start using Deep Learning: for example, if the robot has a camera, you can try to implement an object detection algorithm so it detects people and moves toward them. You can also try to use RL to make the agent learn on its own how to use the motors to achieve that goal. Have fun!"
      ],
      "metadata": {
        "id": "HNX0H9DC1dke"
      }
    },
    {
      "cell_type": "code",
      "source": [
        "# Once Optimus gets open-sourced ..."
      ],
      "metadata": {
        "id": "RUp6Ysjd1Y8X"
      },
      "execution_count": null,
      "outputs": []
    },
    {
      "cell_type": "code",
      "source": [],
      "metadata": {
        "id": "SJ11FfhN1Y4f"
      },
      "execution_count": null,
      "outputs": []
    },
    {
      "cell_type": "code",
      "source": [],
      "metadata": {
        "id": "G9vqbFkIGlyb"
      },
      "execution_count": null,
      "outputs": []
    }
  ]
}